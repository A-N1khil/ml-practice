{
 "cells": [
  {
   "metadata": {
    "ExecuteTime": {
     "end_time": "2024-09-25T05:57:21.454901Z",
     "start_time": "2024-09-25T05:57:21.401355Z"
    }
   },
   "cell_type": "code",
   "source": "import numpy as np",
   "id": "885e654068c087ce",
   "outputs": [],
   "execution_count": 1
  },
  {
   "metadata": {
    "ExecuteTime": {
     "end_time": "2024-09-25T05:59:03.061888Z",
     "start_time": "2024-09-25T05:59:03.052624Z"
    }
   },
   "cell_type": "code",
   "source": [
    "a = np.array([1, 2, 3])\n",
    "\n",
    "print(np.random.choice(a, 2, replace=False))"
   ],
   "id": "6d7700d51859233e",
   "outputs": [
    {
     "name": "stdout",
     "output_type": "stream",
     "text": [
      "[3 2]\n"
     ]
    }
   ],
   "execution_count": 3
  },
  {
   "metadata": {
    "ExecuteTime": {
     "end_time": "2024-09-25T06:06:54.015120Z",
     "start_time": "2024-09-25T06:06:54.002891Z"
    }
   },
   "cell_type": "code",
   "source": [
    "weights = np.random.randn(5, 3)\n",
    "print(weights)\n",
    "print(weights * 0.0001)"
   ],
   "id": "7281d17c3aea3644",
   "outputs": [
    {
     "name": "stdout",
     "output_type": "stream",
     "text": [
      "[[ 0.41564328  0.36333486  0.35120571]\n",
      " [-0.89982128  0.88416108  0.41051421]\n",
      " [-0.23601486  1.32586245  0.04027974]\n",
      " [ 0.05292986  1.8274266   0.79188422]\n",
      " [ 2.4432737   1.62045883 -1.07912125]]\n",
      "[[ 4.15643278e-05  3.63334863e-05  3.51205708e-05]\n",
      " [-8.99821284e-05  8.84161083e-05  4.10514215e-05]\n",
      " [-2.36014857e-05  1.32586245e-04  4.02797383e-06]\n",
      " [ 5.29298552e-06  1.82742660e-04  7.91884218e-05]\n",
      " [ 2.44327370e-04  1.62045883e-04 -1.07912125e-04]]\n"
     ]
    }
   ],
   "execution_count": 6
  },
  {
   "metadata": {
    "ExecuteTime": {
     "end_time": "2024-09-25T07:44:02.110006Z",
     "start_time": "2024-09-25T07:44:02.100506Z"
    }
   },
   "cell_type": "code",
   "source": [
    "a = np.array([[1, 2, 3], [4, 5, 6], [7, 8, 9]])\n",
    "binary = a % 2 == 0\n",
    "print(binary)"
   ],
   "id": "3ac32aea1ef8abe7",
   "outputs": [
    {
     "name": "stdout",
     "output_type": "stream",
     "text": [
      "[[False  True False]\n",
      " [ True False  True]\n",
      " [False  True False]]\n"
     ]
    }
   ],
   "execution_count": 8
  },
  {
   "metadata": {
    "ExecuteTime": {
     "end_time": "2024-09-25T07:37:49.557044Z",
     "start_time": "2024-09-25T07:37:49.531149Z"
    }
   },
   "cell_type": "code",
   "source": [
    "alpha = 1\n",
    "binary = alpha > 0\n",
    "print(binary)"
   ],
   "id": "8dac0a7069f2b941",
   "outputs": [
    {
     "name": "stdout",
     "output_type": "stream",
     "text": [
      "True\n"
     ]
    }
   ],
   "execution_count": 7
  }
 ],
 "metadata": {
  "kernelspec": {
   "display_name": "Python 3",
   "language": "python",
   "name": "python3"
  },
  "language_info": {
   "codemirror_mode": {
    "name": "ipython",
    "version": 2
   },
   "file_extension": ".py",
   "mimetype": "text/x-python",
   "name": "python",
   "nbconvert_exporter": "python",
   "pygments_lexer": "ipython2",
   "version": "2.7.6"
  }
 },
 "nbformat": 4,
 "nbformat_minor": 5
}
