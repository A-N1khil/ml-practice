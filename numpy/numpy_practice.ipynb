{
 "cells": [
  {
   "metadata": {},
   "cell_type": "markdown",
   "source": [
    "# NumPy Practice\n",
    "Jupyter notebook to practice NumPy examples"
   ],
   "id": "27cbb8c5372585c6"
  },
  {
   "metadata": {
    "ExecuteTime": {
     "end_time": "2024-09-16T22:17:55.967032Z",
     "start_time": "2024-09-16T22:17:55.870737Z"
    }
   },
   "cell_type": "code",
   "source": "import numpy as np",
   "id": "ea24642c7d923887",
   "outputs": [],
   "execution_count": 1
  },
  {
   "metadata": {
    "ExecuteTime": {
     "end_time": "2024-09-16T22:18:38.915309Z",
     "start_time": "2024-09-16T22:18:38.907641Z"
    }
   },
   "cell_type": "code",
   "source": [
    "a = np.array([1, 2, 3])\n",
    "print(type(a))\n",
    "print(a.shape)\n",
    "print(a[0], a[1], a[2])\n",
    "a[0] = 5\n",
    "print(a)\n",
    "\n",
    "b = np.array([[1, 2, 3], [4, 5, 6]])\n",
    "print(b.shape)\n",
    "print(b[0, 0], b[0, 1], b[1, 0])"
   ],
   "id": "200092c5a34ce217",
   "outputs": [
    {
     "name": "stdout",
     "output_type": "stream",
     "text": [
      "<class 'numpy.ndarray'>\n",
      "(3,)\n",
      "1 2 3\n",
      "[5 2 3]\n",
      "(2, 3)\n",
      "1 2 4\n"
     ]
    }
   ],
   "execution_count": 2
  },
  {
   "metadata": {},
   "cell_type": "markdown",
   "source": "## Using different numpy array functions",
   "id": "6aa86c3cc9188c04"
  },
  {
   "metadata": {
    "ExecuteTime": {
     "end_time": "2024-09-16T22:24:08.973100Z",
     "start_time": "2024-09-16T22:24:08.956585Z"
    }
   },
   "cell_type": "code",
   "source": [
    "# Create an array of all zeros\n",
    "a = np.zeros((2, 2)) # 2x2 array of zeros\n",
    "print(a)\n",
    "\n",
    "# Create an array of all ones\n",
    "b = np.ones((1, 2)) # 1x2 array of ones\n",
    "print(b)\n",
    "\n",
    "# Create a constant array\n",
    "c = np.full((2, 2), 7) # 2x2 array of 7s\n",
    "print(c)\n",
    "\n",
    "# Create a 2x2 identity matrix\n",
    "d = np.eye(2) # 2x2 identity matrix\n",
    "print(d)\n",
    "\n",
    "# Create an array filled with random values\n",
    "e = np.random.random((2, 2)) # 2x2 array of random numbers\n",
    "print(e)"
   ],
   "id": "9f1a78c022cf992e",
   "outputs": [
    {
     "name": "stdout",
     "output_type": "stream",
     "text": [
      "[[0. 0.]\n",
      " [0. 0.]]\n",
      "[[1. 1.]]\n",
      "[[7 7]\n",
      " [7 7]]\n",
      "[[1. 0.]\n",
      " [0. 1.]]\n",
      "[[0.54171178 0.31944218]\n",
      " [0.15697017 0.00853333]]\n"
     ]
    }
   ],
   "execution_count": 3
  },
  {
   "metadata": {},
   "cell_type": "markdown",
   "source": "## Array Indexing",
   "id": "29c6c33d58f0ecae"
  },
  {
   "metadata": {
    "ExecuteTime": {
     "end_time": "2024-09-16T22:26:22.901902Z",
     "start_time": "2024-09-16T22:26:22.893383Z"
    }
   },
   "cell_type": "code",
   "source": [
    "# Create the following rank 2 array with shape (3, 4)\n",
    "# [[ 1  2  3  4]\n",
    "#  [ 5  6  7  8]\n",
    "#  [ 9 10 11 12]]\n",
    "a = np.array([[1, 2, 3, 4], [5, 6, 7, 8], [9, 10, 11, 12]])\n",
    "\n",
    "# Use slicing to pull out the subarray consisting of the first 2 rows\n",
    "# and columns 1 and 2; b is the following array of shape (2, 2):\n",
    "# [[2 3]\n",
    "#  [6 7]]\n",
    "b = a[:2, 1:3]\n",
    "\n",
    "# A slice of an array is a view into the same data, so modifying it\n",
    "# will modify the original array.\n",
    "print(a)\n",
    "print(a[0, 1])   # Prints \"2\"\n",
    "b[0, 0] = 77     # b[0, 0] is the same piece of data as a[0, 1]\n",
    "print(a)\n",
    "print(a[0, 1])   # Prints \"77\""
   ],
   "id": "613ad099f76244d8",
   "outputs": [
    {
     "name": "stdout",
     "output_type": "stream",
     "text": [
      "[[ 1  2  3  4]\n",
      " [ 5  6  7  8]\n",
      " [ 9 10 11 12]]\n",
      "2\n",
      "[[ 1 77  3  4]\n",
      " [ 5  6  7  8]\n",
      " [ 9 10 11 12]]\n",
      "77\n"
     ]
    }
   ],
   "execution_count": 4
  },
  {
   "metadata": {
    "ExecuteTime": {
     "end_time": "2024-09-16T23:33:26.259190Z",
     "start_time": "2024-09-16T23:33:26.231410Z"
    }
   },
   "cell_type": "code",
   "source": [
    "a = np.array([[1, 2, 3, 4], [5, 6, 7, 8], [9, 10, 11, 12]])\n",
    "print(a)\n",
    "\n",
    "# Two ways of accessing the data in the middle row of the array.\n",
    "# Mixing integer indexing with slices yields an array of lower rank,\n",
    "# while using only slices yields an array of the same rank as the\n",
    "# original array:\n",
    "row_r1 = a[1, :]    # Rank 1 view of the second row of a\n",
    "row_r2 = a[1:2, :]  # Rank 2 view of the second row of a\n",
    "print(row_r1, row_r1.shape)  # Prints \"[5 6 7 8] (4,)\"\n",
    "print(row_r2, row_r2.shape)  # Prints \"[[5 6 7 8]] (1, 4)\"\n",
    "\n",
    "# We can make the same distinction when accessing columns of an array:\n",
    "col_r1 = a[:, 1]\n",
    "col_r2 = a[:, 1:2]\n",
    "print(col_r1, col_r1.shape)  # Prints \"[ 2  6 10] (3,)\"\n",
    "print(col_r2, col_r2.shape)  # Prints \"[[ 2]\n",
    "                             #          [ 6]\n",
    "                             #          [10]] (3, 1)\""
   ],
   "id": "d8a66cbc938b87c6",
   "outputs": [
    {
     "name": "stdout",
     "output_type": "stream",
     "text": [
      "[[ 1  2  3  4]\n",
      " [ 5  6  7  8]\n",
      " [ 9 10 11 12]]\n",
      "[5 6 7 8] (4,)\n",
      "[[5 6 7 8]] (1, 4)\n",
      "[ 2  6 10] (3,)\n",
      "[[ 2]\n",
      " [ 6]\n",
      " [10]] (3, 1)\n"
     ]
    }
   ],
   "execution_count": 5
  },
  {
   "metadata": {},
   "cell_type": "markdown",
   "source": "Integer array indexing: When you index into numpy arrays using slicing, the resulting array view will always be a subarray of the original array. In contrast, integer array indexing allows you to construct arbitrary arrays using the data from another array. Here is an example:",
   "id": "fd888e26e4f2ffa2"
  },
  {
   "metadata": {
    "ExecuteTime": {
     "end_time": "2024-09-16T23:34:41.379928Z",
     "start_time": "2024-09-16T23:34:41.373665Z"
    }
   },
   "cell_type": "code",
   "source": [
    "a = np.array([[1, 2], [3, 4], [5, 6]])\n",
    "print(a)\n",
    "# An example of integer array indexing.\n",
    "# The returned array will have shape (3,) and\n",
    "print(a[[0, 1, 2], [0, 1, 0]])  # Prints \"[1 4 5]\""
   ],
   "id": "5729b99546720d45",
   "outputs": [
    {
     "name": "stdout",
     "output_type": "stream",
     "text": [
      "[[1 2]\n",
      " [3 4]\n",
      " [5 6]]\n",
      "[1 4 5]\n"
     ]
    }
   ],
   "execution_count": 6
  },
  {
   "metadata": {
    "ExecuteTime": {
     "end_time": "2024-09-16T23:35:46.724061Z",
     "start_time": "2024-09-16T23:35:46.717951Z"
    }
   },
   "cell_type": "code",
   "source": [
    "# The above example of integer array indexing is equivalent to this:\n",
    "print(np.array([a[0, 0], a[1, 1], a[2, 0]]))  # Prints \"[1 4 5]\"\n",
    "\n",
    "# When using integer array indexing, you can reuse the same\n",
    "# element from the source array:\n",
    "print(a[[0, 0], [1, 1]])  # Prints \"[2 2]\"\n",
    "\n",
    "# Equivalent to the previous integer array indexing example\n",
    "print(np.array([a[0, 1], a[0, 1]]))  # Prints \"[2 2]\""
   ],
   "id": "31e3f5bae268af6b",
   "outputs": [
    {
     "name": "stdout",
     "output_type": "stream",
     "text": [
      "[1 4 5]\n",
      "[2 2]\n",
      "[2 2]\n"
     ]
    }
   ],
   "execution_count": 7
  },
  {
   "metadata": {},
   "cell_type": "markdown",
   "source": "One useful trick with integer array indexing is selecting or mutating one element from each row of a matrix:",
   "id": "392d727bf1b8111e"
  },
  {
   "metadata": {
    "ExecuteTime": {
     "end_time": "2024-09-16T23:39:50.588182Z",
     "start_time": "2024-09-16T23:39:50.580416Z"
    }
   },
   "cell_type": "code",
   "source": [
    "# Create a new array from which we will select elements\n",
    "a = np.array([[1,2,3], [4,5,6], [7,8,9], [10, 11, 12]])\n",
    "\n",
    "print(a)  # prints \"array([[ 1,  2,  3],\n",
    "            #                [ 4,  5,  6],\n",
    "            #                [ 7,  8,  9],\n",
    "            #                [10, 11, 12]])\"\n",
    "\n",
    "# Create an array of indices\n",
    "b = np.array([0, 2, 0, 1])\n",
    "print(b)"
   ],
   "id": "c6cd2915a737db15",
   "outputs": [
    {
     "name": "stdout",
     "output_type": "stream",
     "text": [
      "[[ 1  2  3]\n",
      " [ 4  5  6]\n",
      " [ 7  8  9]\n",
      " [10 11 12]]\n",
      "[0 2 0 1]\n"
     ]
    }
   ],
   "execution_count": 10
  },
  {
   "metadata": {
    "ExecuteTime": {
     "end_time": "2024-09-17T01:22:58.003888Z",
     "start_time": "2024-09-17T01:22:57.964104Z"
    }
   },
   "cell_type": "code",
   "source": "np.arange(4)",
   "id": "4b7e1a867c550fb2",
   "outputs": [
    {
     "data": {
      "text/plain": [
       "array([0, 1, 2, 3])"
      ]
     },
     "execution_count": 11,
     "metadata": {},
     "output_type": "execute_result"
    }
   ],
   "execution_count": 11
  },
  {
   "metadata": {
    "ExecuteTime": {
     "end_time": "2024-09-17T01:23:50.253169Z",
     "start_time": "2024-09-17T01:23:50.245643Z"
    }
   },
   "cell_type": "code",
   "source": [
    "# Select one element from each row of a using the indices in b\n",
    "print(a[np.arange(4), b])  # Prints \"[ 1  6  7 11]\""
   ],
   "id": "14a480f57154e993",
   "outputs": [
    {
     "name": "stdout",
     "output_type": "stream",
     "text": [
      "[ 1  6  7 11]\n"
     ]
    }
   ],
   "execution_count": 12
  },
  {
   "metadata": {},
   "cell_type": "markdown",
   "source": [
    "## Boolean array indexing: \n",
    "Boolean array indexing lets you pick out arbitrary elements of an array. Frequently this type of indexing is used to select the elements of an array that satisfy some condition. Here is an example:"
   ],
   "id": "e5dd0c5907cae539"
  },
  {
   "metadata": {
    "ExecuteTime": {
     "end_time": "2024-09-17T01:25:16.231406Z",
     "start_time": "2024-09-17T01:25:16.225542Z"
    }
   },
   "cell_type": "code",
   "source": [
    "a = np.array([[1,2], [3, 4], [5, 6]])\n",
    "print(a)\n",
    "\n",
    "bool_idx = (a > 2)  # Find the elements of a that are bigger than 2;\n",
    "                    # this returns a numpy array of Booleans of the same\n",
    "                    # shape as a, where each slot of bool_idx tells\n",
    "                    # whether that element of a is > 2.\n",
    "\n",
    "print(bool_idx)\n",
    "\n",
    "# We use boolean array indexing to construct a rank 1 array\n",
    "# consisting of the elements of a corresponding to the True values\n",
    "# of bool_idx\n",
    "print(a[bool_idx])\n",
    "\n",
    "# We can do all of the above in a single concise statement:\n",
    "print(a[a > 2])"
   ],
   "id": "51be8f2da46e4e6c",
   "outputs": [
    {
     "name": "stdout",
     "output_type": "stream",
     "text": [
      "[[1 2]\n",
      " [3 4]\n",
      " [5 6]]\n",
      "[[False False]\n",
      " [ True  True]\n",
      " [ True  True]]\n",
      "[3 4 5 6]\n",
      "[3 4 5 6]\n"
     ]
    }
   ],
   "execution_count": 13
  },
  {
   "metadata": {},
   "cell_type": "markdown",
   "source": "# Array Math",
   "id": "59311a82beb5ae03"
  },
  {
   "metadata": {
    "ExecuteTime": {
     "end_time": "2024-09-17T01:26:20.206986Z",
     "start_time": "2024-09-17T01:26:20.198189Z"
    }
   },
   "cell_type": "code",
   "source": [
    "x = np.array([[1,2],[3,4]], dtype=np.float64)\n",
    "y = np.array([[5,6],[7,8]], dtype=np.float64)\n",
    "\n",
    "# Elementwise sum; both produce the array\n",
    "print(x + y)"
   ],
   "id": "f7a4efd1348fa18c",
   "outputs": [
    {
     "name": "stdout",
     "output_type": "stream",
     "text": [
      "[[ 6.  8.]\n",
      " [10. 12.]]\n"
     ]
    }
   ],
   "execution_count": 14
  },
  {
   "metadata": {
    "ExecuteTime": {
     "end_time": "2024-09-17T01:26:28.055546Z",
     "start_time": "2024-09-17T01:26:28.051804Z"
    }
   },
   "cell_type": "code",
   "source": "print(np.add(x, y))",
   "id": "2d777fbc1f0ce81",
   "outputs": [
    {
     "name": "stdout",
     "output_type": "stream",
     "text": [
      "[[ 6.  8.]\n",
      " [10. 12.]]\n"
     ]
    }
   ],
   "execution_count": 15
  },
  {
   "metadata": {
    "ExecuteTime": {
     "end_time": "2024-09-17T01:26:33.893388Z",
     "start_time": "2024-09-17T01:26:33.889240Z"
    }
   },
   "cell_type": "code",
   "source": [
    "# Elementwise difference; both produce the array\n",
    "print(x - y)"
   ],
   "id": "c939f26071034631",
   "outputs": [
    {
     "name": "stdout",
     "output_type": "stream",
     "text": [
      "[[-4. -4.]\n",
      " [-4. -4.]]\n"
     ]
    }
   ],
   "execution_count": 16
  },
  {
   "metadata": {
    "ExecuteTime": {
     "end_time": "2024-09-17T01:26:36.324354Z",
     "start_time": "2024-09-17T01:26:36.320184Z"
    }
   },
   "cell_type": "code",
   "source": "print(np.subtract(x, y))",
   "id": "7f4a6407197d2000",
   "outputs": [
    {
     "name": "stdout",
     "output_type": "stream",
     "text": [
      "[[-4. -4.]\n",
      " [-4. -4.]]\n"
     ]
    }
   ],
   "execution_count": 17
  },
  {
   "metadata": {
    "ExecuteTime": {
     "end_time": "2024-09-17T01:27:05.321725Z",
     "start_time": "2024-09-17T01:27:05.317273Z"
    }
   },
   "cell_type": "code",
   "source": [
    "# Elementwise product; both produce the array\n",
    "print(x * y)"
   ],
   "id": "59c691eadf54f02e",
   "outputs": [
    {
     "name": "stdout",
     "output_type": "stream",
     "text": [
      "[[ 5. 12.]\n",
      " [21. 32.]]\n"
     ]
    }
   ],
   "execution_count": 18
  },
  {
   "metadata": {
    "ExecuteTime": {
     "end_time": "2024-09-17T01:27:06.354264Z",
     "start_time": "2024-09-17T01:27:06.350450Z"
    }
   },
   "cell_type": "code",
   "source": "print(np.multiply(x, y))",
   "id": "fbbf24aaa3fc5ee8",
   "outputs": [
    {
     "name": "stdout",
     "output_type": "stream",
     "text": [
      "[[ 5. 12.]\n",
      " [21. 32.]]\n"
     ]
    }
   ],
   "execution_count": 19
  },
  {
   "metadata": {
    "ExecuteTime": {
     "end_time": "2024-09-17T01:27:07.064253Z",
     "start_time": "2024-09-17T01:27:07.059736Z"
    }
   },
   "cell_type": "code",
   "source": [
    "# Elementwise division; both produce the array\n",
    "# [[ 0.2         0.33333333]\n",
    "#  [ 0.42857143  0.5       ]]\n",
    "print(x / y)"
   ],
   "id": "40c5a726abd06a4a",
   "outputs": [
    {
     "name": "stdout",
     "output_type": "stream",
     "text": [
      "[[0.2        0.33333333]\n",
      " [0.42857143 0.5       ]]\n"
     ]
    }
   ],
   "execution_count": 20
  },
  {
   "metadata": {
    "ExecuteTime": {
     "end_time": "2024-09-17T01:27:07.685218Z",
     "start_time": "2024-09-17T01:27:07.683045Z"
    }
   },
   "cell_type": "code",
   "source": "print(np.divide(x, y))",
   "id": "bc257c72536bd8b0",
   "outputs": [
    {
     "name": "stdout",
     "output_type": "stream",
     "text": [
      "[[0.2        0.33333333]\n",
      " [0.42857143 0.5       ]]\n"
     ]
    }
   ],
   "execution_count": 21
  },
  {
   "metadata": {
    "ExecuteTime": {
     "end_time": "2024-09-17T01:27:27.568363Z",
     "start_time": "2024-09-17T01:27:27.562366Z"
    }
   },
   "cell_type": "code",
   "source": [
    "# Elementwise square root; produces the array\n",
    "# [[ 1.          1.41421356]\n",
    "#  [ 1.73205081  2.        ]]\n",
    "print(np.sqrt(x))"
   ],
   "id": "25a00a86493a23e4",
   "outputs": [
    {
     "name": "stdout",
     "output_type": "stream",
     "text": [
      "[[1.         1.41421356]\n",
      " [1.73205081 2.        ]]\n"
     ]
    }
   ],
   "execution_count": 22
  },
  {
   "metadata": {
    "ExecuteTime": {
     "end_time": "2024-09-17T01:28:25.256227Z",
     "start_time": "2024-09-17T01:28:25.249976Z"
    }
   },
   "cell_type": "code",
   "source": [
    "x = np.array([[1,2],[3,4]])\n",
    "y = np.array([[5,6],[7,8]])\n",
    "\n",
    "v = np.array([9,10])\n",
    "w = np.array([11, 12])\n",
    "\n",
    "# Inner product of vectors; both produce 219\n",
    "print(v.dot(w)) # 9*11 + 10*12"
   ],
   "id": "162dc168a7d05117",
   "outputs": [
    {
     "name": "stdout",
     "output_type": "stream",
     "text": [
      "219\n"
     ]
    }
   ],
   "execution_count": 23
  },
  {
   "metadata": {
    "ExecuteTime": {
     "end_time": "2024-09-17T01:28:27.505388Z",
     "start_time": "2024-09-17T01:28:27.502146Z"
    }
   },
   "cell_type": "code",
   "source": "print(np.dot(v, w))",
   "id": "372928e06655180a",
   "outputs": [
    {
     "name": "stdout",
     "output_type": "stream",
     "text": [
      "219\n"
     ]
    }
   ],
   "execution_count": 24
  },
  {
   "metadata": {
    "ExecuteTime": {
     "end_time": "2024-09-17T01:30:38.675138Z",
     "start_time": "2024-09-17T01:30:38.651770Z"
    }
   },
   "cell_type": "code",
   "source": [
    "# Matrix / vector product; both produce the rank 1 array [29 67]\n",
    "print(x.dot(v)) # 1*9 + 2*10, 3*9 + 4*10"
   ],
   "id": "359aef9394a212fd",
   "outputs": [
    {
     "name": "stdout",
     "output_type": "stream",
     "text": [
      "[29 67]\n"
     ]
    }
   ],
   "execution_count": 25
  },
  {
   "metadata": {
    "ExecuteTime": {
     "end_time": "2024-09-17T01:30:46.044471Z",
     "start_time": "2024-09-17T01:30:46.038954Z"
    }
   },
   "cell_type": "code",
   "source": "print(np.dot(x, v)) # 1*9 + 2*10, 3*9 + 4*10",
   "id": "20000b14a20df704",
   "outputs": [
    {
     "name": "stdout",
     "output_type": "stream",
     "text": [
      "[29 67]\n"
     ]
    }
   ],
   "execution_count": 26
  },
  {
   "metadata": {},
   "cell_type": "code",
   "outputs": [],
   "execution_count": null,
   "source": [
    "# Matrix / matrix product; both produce the rank 2 array\n",
    "# [[19 22]\n",
    "#  [43 50]]\n",
    "print(x.dot(y)) # 1*5 + 2*7, 1*6 + 2*8, 3*5 + 4*7, 3*6 + 4*8"
   ],
   "id": "5e0478db93dafee1"
  },
  {
   "metadata": {
    "ExecuteTime": {
     "end_time": "2024-09-17T01:31:07.032027Z",
     "start_time": "2024-09-17T01:31:07.027705Z"
    }
   },
   "cell_type": "code",
   "source": "print(np.dot(x, y)) # 1*5 + 2*7, 1*6 + 2*8, 3*5 + 4*7, 3*6 + 4*8",
   "id": "d3ba322ac541d1b4",
   "outputs": [
    {
     "name": "stdout",
     "output_type": "stream",
     "text": [
      "[[19 22]\n",
      " [43 50]]\n"
     ]
    }
   ],
   "execution_count": 27
  },
  {
   "metadata": {},
   "cell_type": "markdown",
   "source": "Numpy provides many useful functions for performing computations on arrays; one of the most useful is sum:",
   "id": "690757fc14c07991"
  },
  {
   "metadata": {
    "ExecuteTime": {
     "end_time": "2024-09-17T01:32:03.419414Z",
     "start_time": "2024-09-17T01:32:03.413050Z"
    }
   },
   "cell_type": "code",
   "source": [
    "x = np.array([[1,2],[3,4]])\n",
    "\n",
    "print(np.sum(x))  # Compute sum of all elements; prints \"10\"\n",
    "print(np.sum(x, axis=0))  # Compute sum of each column; prints \"[4 6]\"\n",
    "print(np.sum(x, axis=1))  # Compute sum of each row; prints \"[3 7]\""
   ],
   "id": "a58ed35872046656",
   "outputs": [
    {
     "name": "stdout",
     "output_type": "stream",
     "text": [
      "10\n",
      "[4 6]\n",
      "[3 7]\n"
     ]
    }
   ],
   "execution_count": 28
  },
  {
   "metadata": {},
   "cell_type": "code",
   "outputs": [],
   "execution_count": null,
   "source": "## Transposing Arrays",
   "id": "7a7271ed771b5a62"
  },
  {
   "metadata": {
    "ExecuteTime": {
     "end_time": "2024-09-17T01:33:02.250086Z",
     "start_time": "2024-09-17T01:33:02.235041Z"
    }
   },
   "cell_type": "code",
   "source": [
    "x = np.array([[1,2], [3,4]])\n",
    "print(x)    # Prints \"[[1 2]\n",
    "            #          [3 4]]\"\n",
    "print(x.T)  # Prints \"[[1 3]\n",
    "    "
   ],
   "id": "a1827a5b880d00b9",
   "outputs": [
    {
     "name": "stdout",
     "output_type": "stream",
     "text": [
      "[[1 2]\n",
      " [3 4]]\n",
      "[[1 3]\n",
      " [2 4]]\n"
     ]
    }
   ],
   "execution_count": 29
  },
  {
   "metadata": {},
   "cell_type": "markdown",
   "source": "# Broadcasting",
   "id": "468ce4911acfdc19"
  },
  {
   "metadata": {
    "ExecuteTime": {
     "end_time": "2024-09-17T01:34:08.281314Z",
     "start_time": "2024-09-17T01:34:08.275544Z"
    }
   },
   "cell_type": "code",
   "source": [
    "# We will add the vector v to each row of the matrix x,\n",
    "# storing the result in the matrix y\n",
    "x = np.array([[1,2,3], [4,5,6], [7,8,9], [10, 11, 12]])\n",
    "v = np.array([1, 0, 1])\n",
    "y = np.empty_like(x)   # Create an empty matrix with the same shape as x\n",
    "\n",
    "# Add the vector v to each row of the matrix x with an explicit loop\n",
    "for i in range(4):\n",
    "    y[i, :] = x[i, :] + v\n",
    "\n",
    "print(y)"
   ],
   "id": "77544997faf99f52",
   "outputs": [
    {
     "name": "stdout",
     "output_type": "stream",
     "text": [
      "[[ 2  2  4]\n",
      " [ 5  5  7]\n",
      " [ 8  8 10]\n",
      " [11 11 13]]\n"
     ]
    }
   ],
   "execution_count": 30
  },
  {
   "metadata": {
    "ExecuteTime": {
     "end_time": "2024-09-17T01:36:35.160318Z",
     "start_time": "2024-09-17T01:36:35.157113Z"
    }
   },
   "cell_type": "code",
   "source": [
    "x = np.array([[1,2,3], [4,5,6], [7,8,9], [10, 11, 12]])\n",
    "v = np.array([1, 0, 1])\n",
    "vv = np.tile(v, (4, 1))   # Stack 4 copies of v on top of each other\n",
    "print(vv)                 # Prints \"[[1 0 1]\n",
    "                          #          [1 0 1]\n",
    "                          #          [1 0 1]\n",
    "                          #          [1 0 1]]\""
   ],
   "id": "b10f5c0024d01ea7",
   "outputs": [
    {
     "name": "stdout",
     "output_type": "stream",
     "text": [
      "[[1 0 1]\n",
      " [1 0 1]\n",
      " [1 0 1]\n",
      " [1 0 1]]\n"
     ]
    }
   ],
   "execution_count": 33
  },
  {
   "metadata": {
    "ExecuteTime": {
     "end_time": "2024-09-17T01:36:39.877584Z",
     "start_time": "2024-09-17T01:36:39.873357Z"
    }
   },
   "cell_type": "code",
   "source": [
    "y = x + vv  # Add x and vv elementwise\n",
    "print(y)  # Prints \"[[ 2  2  4\n",
    "          #          [ 5  5  7]\n",
    "          #          [ 8  8 10]\n",
    "          #          [11 11 13]]\""
   ],
   "id": "359e02feb4499d31",
   "outputs": [
    {
     "name": "stdout",
     "output_type": "stream",
     "text": [
      "[[ 2  2  4]\n",
      " [ 5  5  7]\n",
      " [ 8  8 10]\n",
      " [11 11 13]]\n"
     ]
    }
   ],
   "execution_count": 34
  },
  {
   "metadata": {
    "ExecuteTime": {
     "end_time": "2024-09-17T01:37:50.238212Z",
     "start_time": "2024-09-17T01:37:50.234571Z"
    }
   },
   "cell_type": "code",
   "source": "### Applications of broadcasting",
   "id": "74681055888a44b3",
   "outputs": [],
   "execution_count": 35
  },
  {
   "metadata": {
    "ExecuteTime": {
     "end_time": "2024-09-17T01:39:05.538326Z",
     "start_time": "2024-09-17T01:39:05.532862Z"
    }
   },
   "cell_type": "code",
   "source": [
    "# Compute outer product of vectors\n",
    "v = np.array([1,2,3])  # v has shape (3,)\n",
    "w = np.array([4,5])    # w has shape (2,)\n",
    "# To compute an outer product, we first reshape v to be a column\n",
    "# vector of shape (3, 1); we can then broadcast it against w to yield\n",
    "# an output of shape (3, 2), which is the outer product of v and w:\n",
    "# [[ 4  5]\n",
    "#  [ 8 10]\n",
    "#  [12 15]]\n",
    "print(np.reshape(v, (3, 1)) * w)"
   ],
   "id": "2d45a0c62fe6b111",
   "outputs": [
    {
     "name": "stdout",
     "output_type": "stream",
     "text": [
      "[[ 4  5]\n",
      " [ 8 10]\n",
      " [12 15]]\n"
     ]
    }
   ],
   "execution_count": 36
  },
  {
   "metadata": {
    "ExecuteTime": {
     "end_time": "2024-09-17T01:39:33.652714Z",
     "start_time": "2024-09-17T01:39:33.649124Z"
    }
   },
   "cell_type": "code",
   "source": [
    "# Add a vector to each row of a matrix\n",
    "x = np.array([[1,2,3], [4,5,6]])\n",
    "# x has shape (2, 3) and v has shape (3,) so they broadcast to (2, 3),\n",
    "# giving the following matrix:\n",
    "# [[2 4 6]\n",
    "#  [5 7 9]]\n",
    "print(x + v)"
   ],
   "id": "17174f9808f71829",
   "outputs": [
    {
     "name": "stdout",
     "output_type": "stream",
     "text": [
      "[[2 4 6]\n",
      " [5 7 9]]\n"
     ]
    }
   ],
   "execution_count": 37
  },
  {
   "metadata": {
    "ExecuteTime": {
     "end_time": "2024-09-17T01:44:02.121160Z",
     "start_time": "2024-09-17T01:44:02.117114Z"
    }
   },
   "cell_type": "code",
   "source": [
    "# Add a vector to each column of a matrix\n",
    "# x has shape (2, 3) and w has shape (2,).\n",
    "# If we transpose x then it has shape (3, 2) and can be broadcast\n",
    "# against w to yield a result of shape (3, 2); transposing this result\n",
    "# yields the final result of shape (2, 3) which is the matrix x with\n",
    "# the vector w added to each column. Gives the following matrix:\n",
    "# [[ 5  6  7]\n",
    "#  [ 9 10 11]]\n",
    "print((x.T + w).T)\n",
    "\n",
    "# X transpose\n",
    "# [[1 4]\n",
    "#  [2 5]\n",
    "#  [3 6]]\n",
    "\n",
    "# Add w to each column of x\n",
    "# [[1 4] + [4 5] = [5 9]\n",
    "#  [2 5] + [4 5] = [6 10]\n",
    "#  [3 6] + [4 5] = [7 11]]\n",
    "\n",
    "# Transpose the result\n",
    "# [[5, 6, 7]\n",
    "#  [9, 10, 11]]"
   ],
   "id": "84055f11a4743dd",
   "outputs": [
    {
     "name": "stdout",
     "output_type": "stream",
     "text": [
      "[[ 5  6  7]\n",
      " [ 9 10 11]]\n"
     ]
    }
   ],
   "execution_count": 39
  },
  {
   "metadata": {},
   "cell_type": "code",
   "outputs": [],
   "execution_count": null,
   "source": "",
   "id": "bb0101da2b26a8ed"
  }
 ],
 "metadata": {
  "kernelspec": {
   "display_name": "Python 3",
   "language": "python",
   "name": "python3"
  },
  "language_info": {
   "codemirror_mode": {
    "name": "ipython",
    "version": 2
   },
   "file_extension": ".py",
   "mimetype": "text/x-python",
   "name": "python",
   "nbconvert_exporter": "python",
   "pygments_lexer": "ipython2",
   "version": "2.7.6"
  }
 },
 "nbformat": 4,
 "nbformat_minor": 5
}
