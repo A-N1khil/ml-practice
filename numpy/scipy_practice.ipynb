{
 "cells": [
  {
   "metadata": {},
   "cell_type": "markdown",
   "source": "# Scipy",
   "id": "a21aba8d9d38107b"
  },
  {
   "metadata": {
    "ExecuteTime": {
     "end_time": "2024-09-17T01:57:06.793625Z",
     "start_time": "2024-09-17T01:57:06.787692Z"
    }
   },
   "cell_type": "code",
   "source": [
    "import numpy as np\n",
    "from scipy.spatial.distance import pdist, squareform"
   ],
   "id": "a6f07b18d8d695ab",
   "outputs": [],
   "execution_count": 3
  },
  {
   "metadata": {
    "ExecuteTime": {
     "end_time": "2024-09-17T01:57:33.009314Z",
     "start_time": "2024-09-17T01:57:32.998396Z"
    }
   },
   "cell_type": "code",
   "source": [
    "# Create the following array where each row is a point in 2D space:\n",
    "# [[0 1]\n",
    "#  [1 0]\n",
    "#  [2 0]]\n",
    "x = np.array([[0, 1], [1, 0], [2, 0]])\n",
    "print(x)"
   ],
   "id": "f0ab7b7d73c7ba1",
   "outputs": [
    {
     "name": "stdout",
     "output_type": "stream",
     "text": [
      "[[0 1]\n",
      " [1 0]\n",
      " [2 0]]\n"
     ]
    }
   ],
   "execution_count": 4
  },
  {
   "metadata": {
    "ExecuteTime": {
     "end_time": "2024-09-17T01:57:46.204565Z",
     "start_time": "2024-09-17T01:57:46.183638Z"
    }
   },
   "cell_type": "code",
   "source": [
    "# Compute the Euclidean distance between all rows of x.\n",
    "# d[i, j] is the Euclidean distance between x[i, :] and x[j, :],\n",
    "# and d is the following array:\n",
    "# [[ 0.          1.41421356  2.23606798]\n",
    "#  [ 1.41421356  0.          1.        ]\n",
    "#  [ 2.23606798  1.          0.        ]]\n",
    "d = squareform(pdist(x, 'euclidean'))\n",
    "print(d)"
   ],
   "id": "a0e21ffcd356c576",
   "outputs": [
    {
     "name": "stdout",
     "output_type": "stream",
     "text": [
      "[[0.         1.41421356 2.23606798]\n",
      " [1.41421356 0.         1.        ]\n",
      " [2.23606798 1.         0.        ]]\n"
     ]
    }
   ],
   "execution_count": 5
  },
  {
   "metadata": {
    "ExecuteTime": {
     "end_time": "2024-09-17T02:02:34.751957Z",
     "start_time": "2024-09-17T02:02:34.747141Z"
    }
   },
   "cell_type": "code",
   "source": [
    "# Calculations of D\n",
    "# d[0, 0] = x[0, 0] - x[0, 0] = 0\n",
    "# d[0, 1] = sqrt((x[0, 0] - x[1, 0])^2 + (x[0, 1] - x[1, 1])^2) = sqrt(1^2 + 1^2) = sqrt(2)\n",
    "# d[0, 2] = sqrt((x[0, 0] - x[2, 0])^2 + (x[0, 1] - x[2, 1])^2) = sqrt(2^2 + 1^2) = sqrt(5)\n"
   ],
   "id": "84c3d02600eed4d1",
   "outputs": [],
   "execution_count": 6
  },
  {
   "metadata": {},
   "cell_type": "code",
   "outputs": [],
   "execution_count": null,
   "source": "",
   "id": "57c4e2d4ed702c5"
  }
 ],
 "metadata": {
  "kernelspec": {
   "display_name": "Python 3",
   "language": "python",
   "name": "python3"
  },
  "language_info": {
   "codemirror_mode": {
    "name": "ipython",
    "version": 2
   },
   "file_extension": ".py",
   "mimetype": "text/x-python",
   "name": "python",
   "nbconvert_exporter": "python",
   "pygments_lexer": "ipython2",
   "version": "2.7.6"
  }
 },
 "nbformat": 4,
 "nbformat_minor": 5
}
